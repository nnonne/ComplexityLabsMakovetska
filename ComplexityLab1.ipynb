{
 "cells": [
  {
   "cell_type": "markdown",
   "id": "434b1443",
   "metadata": {},
   "source": [
    "1. Написати програми, які обчислюють середню кількість порівнянь в QuickSort за рекурсіями двома способами"
   ]
  },
  {
   "cell_type": "markdown",
   "id": "dbb0a80a",
   "metadata": {},
   "source": [
    "I)"
   ]
  },
  {
   "cell_type": "code",
   "execution_count": 42,
   "id": "445235ad",
   "metadata": {},
   "outputs": [],
   "source": [
    "def rec1(n):\n",
    "    c0 = 0\n",
    "    cs = [c0]\n",
    "    for i in range(1,n):\n",
    "        ci = i + 1 + sum([cs[j-1] + cs[i-j] for j in range(1, i+1)])/i\n",
    "        cs.append(ci)\n",
    "    return cs[-1]"
   ]
  },
  {
   "cell_type": "markdown",
   "id": "b85f9cd8",
   "metadata": {},
   "source": [
    "II)"
   ]
  },
  {
   "cell_type": "code",
   "execution_count": 43,
   "id": "8f49138f",
   "metadata": {},
   "outputs": [],
   "source": [
    "def rec2(n):\n",
    "    c0 = 0\n",
    "    for i in range(1,n):\n",
    "        ci = ((i+1)/i)*c0 + 2\n",
    "        c0 = ci\n",
    "    return c0"
   ]
  },
  {
   "cell_type": "code",
   "execution_count": 44,
   "id": "adaba0a3",
   "metadata": {},
   "outputs": [
    {
     "data": {
      "text/plain": [
       "0"
      ]
     },
     "execution_count": 44,
     "metadata": {},
     "output_type": "execute_result"
    }
   ],
   "source": [
    "rec1(0)"
   ]
  },
  {
   "cell_type": "code",
   "execution_count": 45,
   "id": "587e0069",
   "metadata": {},
   "outputs": [
    {
     "data": {
      "text/plain": [
       "0"
      ]
     },
     "execution_count": 45,
     "metadata": {},
     "output_type": "execute_result"
    }
   ],
   "source": [
    "rec2(0)"
   ]
  },
  {
   "cell_type": "code",
   "execution_count": 46,
   "id": "38305080",
   "metadata": {},
   "outputs": [
    {
     "data": {
      "text/plain": [
       "38.57936507936509"
      ]
     },
     "execution_count": 46,
     "metadata": {},
     "output_type": "execute_result"
    }
   ],
   "source": [
    "rec1(10)"
   ]
  },
  {
   "cell_type": "code",
   "execution_count": 47,
   "id": "43424662",
   "metadata": {},
   "outputs": [
    {
     "data": {
      "text/plain": [
       "38.57936507936508"
      ]
     },
     "execution_count": 47,
     "metadata": {},
     "output_type": "execute_result"
    }
   ],
   "source": [
    "rec2(10)"
   ]
  },
  {
   "cell_type": "markdown",
   "id": "9dc28af1",
   "metadata": {},
   "source": [
    "2. Провести експерименти та пояснити результати"
   ]
  },
  {
   "cell_type": "markdown",
   "id": "f6f8c9a3",
   "metadata": {},
   "source": [
    "а) Порівняти час роботи з обчислення С_n першим та другим методом."
   ]
  },
  {
   "cell_type": "code",
   "execution_count": 48,
   "id": "30d63c2a",
   "metadata": {},
   "outputs": [],
   "source": [
    "from datetime import datetime as dt"
   ]
  },
  {
   "cell_type": "code",
   "execution_count": 49,
   "id": "cfd9e2d3",
   "metadata": {},
   "outputs": [
    {
     "name": "stdout",
     "output_type": "stream",
     "text": [
      "0:00:00.206622\n",
      "0:00:00.171002\n",
      "0:00:00.182002\n",
      "0:00:00.152028\n",
      "0:00:00.166974\n",
      "0:00:00.146003\n",
      "0:00:00.176017\n",
      "0:00:00.141979\n",
      "0:00:00.192035\n",
      "0:00:00.153998\n",
      "15737.926\n"
     ]
    }
   ],
   "source": [
    "microsec1 = 0\n",
    "for i in range(100):\n",
    "    \n",
    "    start = dt.now()\n",
    "    rec1(1000)\n",
    "    a = dt.now() - start\n",
    "    microsec1 += a.microseconds\n",
    "    if i < 10:\n",
    "        print(a)\n",
    "print(microsec1/1000)"
   ]
  },
  {
   "cell_type": "code",
   "execution_count": 50,
   "id": "4fe9b207",
   "metadata": {},
   "outputs": [
    {
     "name": "stdout",
     "output_type": "stream",
     "text": [
      "0:00:00\n",
      "0:00:00\n",
      "0:00:00\n",
      "0:00:00\n",
      "0:00:00\n",
      "0:00:00\n",
      "0:00:00.000997\n",
      "0:00:00\n",
      "0:00:00\n",
      "0:00:00\n",
      "41.982\n"
     ]
    }
   ],
   "source": [
    "microsec2 = 0\n",
    "for i in range(100):\n",
    "    start = dt.now()\n",
    "    rec2(1000)\n",
    "    a = dt.now() - start\n",
    "    microsec2 += a.microseconds\n",
    "    if i < 10:\n",
    "        print(a)\n",
    "print(microsec2/1000)"
   ]
  },
  {
   "cell_type": "markdown",
   "id": "ede5f38d",
   "metadata": {},
   "source": [
    "Обчислення C_n другим методом значно швидше ніж першим, адже у першому методі ми обчислюємо суму з усіх C_j-1 + С_i-j, i=[1,n], j =[1,i], що має велику складність обчислень (O(n^2)). В другому ж методі складність обчислень менша, тому ми витрачаємо на обрахунки значно менше часу."
   ]
  },
  {
   "cell_type": "markdown",
   "id": "5897484a",
   "metadata": {},
   "source": [
    "б) Обчисліть С_n для 10^5 та порівняйте з наближенням отриманим на лекції. Обчисліть похибку цієї апроксимації."
   ]
  },
  {
   "cell_type": "markdown",
   "id": "93b98fea",
   "metadata": {},
   "source": [
    "C_n = 2 (n+1)(H_n+1 - 1) ≈ 2(n+1)(ln(n+1) + gamma - 1) "
   ]
  },
  {
   "cell_type": "code",
   "execution_count": 51,
   "id": "5d8d1da2",
   "metadata": {},
   "outputs": [
    {
     "data": {
      "text/plain": [
       "0.5772156649015329"
      ]
     },
     "execution_count": 51,
     "metadata": {},
     "output_type": "execute_result"
    }
   ],
   "source": [
    "from numpy import euler_gamma as  g\n",
    "from math import log as ln\n",
    "g"
   ]
  },
  {
   "cell_type": "code",
   "execution_count": 52,
   "id": "dcfa57a7",
   "metadata": {},
   "outputs": [],
   "source": [
    "n = 10**5\n",
    "c_n1 = rec2(n)\n",
    "c_n2 = 2*(n+1)*(ln(n+1) + g - 1) \n",
    "\n",
    "error = abs(c_n1 - c_n2)"
   ]
  },
  {
   "cell_type": "code",
   "execution_count": 53,
   "id": "ffc821c9",
   "metadata": {},
   "outputs": [
    {
     "data": {
      "text/plain": [
       "2218029.2259726427"
      ]
     },
     "execution_count": 53,
     "metadata": {},
     "output_type": "execute_result"
    }
   ],
   "source": [
    "c_n1"
   ]
  },
  {
   "cell_type": "code",
   "execution_count": 54,
   "id": "b62cdef0",
   "metadata": {},
   "outputs": [
    {
     "data": {
      "text/plain": [
       "2218052.406266612"
      ]
     },
     "execution_count": 54,
     "metadata": {},
     "output_type": "execute_result"
    }
   ],
   "source": [
    "c_n2"
   ]
  },
  {
   "cell_type": "code",
   "execution_count": 55,
   "id": "2b0f0334",
   "metadata": {},
   "outputs": [
    {
     "data": {
      "text/plain": [
       "23.180293969344348"
      ]
     },
     "execution_count": 55,
     "metadata": {},
     "output_type": "execute_result"
    }
   ],
   "source": [
    "error"
   ]
  },
  {
   "cell_type": "markdown",
   "id": "a41b2ca1",
   "metadata": {},
   "source": [
    "На лекції було отримане трохи інше наближення: "
   ]
  },
  {
   "cell_type": "markdown",
   "id": "8d942517",
   "metadata": {},
   "source": [
    "C_n = 2 (n+1)(H_n+1 - 1) ≈ 2(n+1)(ln(n+1) + gamma - 1 + 1/2(n+1) \n"
   ]
  },
  {
   "cell_type": "markdown",
   "id": "0a5de9eb",
   "metadata": {},
   "source": [
    "Використаємо його:"
   ]
  },
  {
   "cell_type": "code",
   "execution_count": 56,
   "id": "f8c49c75",
   "metadata": {},
   "outputs": [],
   "source": [
    "c_n3 = 2*(n+1)*(ln(n+1) + g - 1 + 1/(2*(n+1)))"
   ]
  },
  {
   "cell_type": "code",
   "execution_count": 57,
   "id": "f5358a3e",
   "metadata": {},
   "outputs": [
    {
     "data": {
      "text/plain": [
       "2218053.4062666125"
      ]
     },
     "execution_count": 57,
     "metadata": {},
     "output_type": "execute_result"
    }
   ],
   "source": [
    "c_n3"
   ]
  },
  {
   "cell_type": "code",
   "execution_count": 58,
   "id": "75aa7803",
   "metadata": {},
   "outputs": [],
   "source": [
    "error = abs(c_n1 - c_n3)"
   ]
  },
  {
   "cell_type": "code",
   "execution_count": 59,
   "id": "81252d6b",
   "metadata": {},
   "outputs": [
    {
     "data": {
      "text/plain": [
       "24.18029396981001"
      ]
     },
     "execution_count": 59,
     "metadata": {},
     "output_type": "execute_result"
    }
   ],
   "source": [
    "error"
   ]
  },
  {
   "cell_type": "markdown",
   "id": "52131ee0",
   "metadata": {},
   "source": [
    "в) Використайте кращу апроксимацію для гармонічних чисел  H_n для отримання кращої апроксимації чисел C_n."
   ]
  },
  {
   "cell_type": "code",
   "execution_count": 60,
   "id": "c5eb7666",
   "metadata": {},
   "outputs": [],
   "source": [
    "def harmonic(n):\n",
    "    s = 0\n",
    "    for i in range(1,n+1):\n",
    "        s += 1/i\n",
    "        #print(s)\n",
    "    return s"
   ]
  },
  {
   "cell_type": "code",
   "execution_count": 61,
   "id": "8fd0d438",
   "metadata": {},
   "outputs": [
    {
     "data": {
      "text/plain": [
       "2.4499999999999997"
      ]
     },
     "execution_count": 61,
     "metadata": {},
     "output_type": "execute_result"
    }
   ],
   "source": [
    "harmonic(6)"
   ]
  },
  {
   "cell_type": "code",
   "execution_count": 62,
   "id": "c5fe9a45",
   "metadata": {},
   "outputs": [],
   "source": [
    "c_n3 = 2*(n+1)*(harmonic(n+1) - 1)"
   ]
  },
  {
   "cell_type": "code",
   "execution_count": 63,
   "id": "67e01e3f",
   "metadata": {},
   "outputs": [
    {
     "data": {
      "text/plain": [
       "2218053.406264927"
      ]
     },
     "execution_count": 63,
     "metadata": {},
     "output_type": "execute_result"
    }
   ],
   "source": [
    "c_n3"
   ]
  },
  {
   "cell_type": "code",
   "execution_count": 64,
   "id": "5a6f37b9",
   "metadata": {},
   "outputs": [],
   "source": [
    "errorh = abs(c_n1 - c_n3)"
   ]
  },
  {
   "cell_type": "code",
   "execution_count": 65,
   "id": "9be6ebe7",
   "metadata": {},
   "outputs": [
    {
     "data": {
      "text/plain": [
       "24.18029228411615"
      ]
     },
     "execution_count": 65,
     "metadata": {},
     "output_type": "execute_result"
    }
   ],
   "source": [
    "errorh"
   ]
  },
  {
   "cell_type": "markdown",
   "id": "0355afdc",
   "metadata": {},
   "source": [
    "г) Порівняйте час обчислення за рекурсією (ІІ) та час обчислення наближеного значення"
   ]
  },
  {
   "cell_type": "code",
   "execution_count": 66,
   "id": "81a1544f",
   "metadata": {},
   "outputs": [],
   "source": [
    "n = 1000"
   ]
  },
  {
   "cell_type": "code",
   "execution_count": 67,
   "id": "5310a732",
   "metadata": {},
   "outputs": [
    {
     "name": "stdout",
     "output_type": "stream",
     "text": [
      "240.06\n"
     ]
    }
   ],
   "source": [
    "microsec3 = 0\n",
    "for i in range(100):\n",
    "    start = dt.now()\n",
    "    rec2(n)\n",
    "    a = dt.now() - start\n",
    "    microsec3 += a.microseconds\n",
    "print(microsec3/100)"
   ]
  },
  {
   "cell_type": "code",
   "execution_count": 68,
   "id": "6a268f06",
   "metadata": {},
   "outputs": [
    {
     "name": "stdout",
     "output_type": "stream",
     "text": [
      "159.96\n"
     ]
    }
   ],
   "source": [
    "microsec3 = 0\n",
    "for i in range(100):\n",
    "    start = dt.now()\n",
    "    2*(n+1)*(harmonic(n+1) - 1)\n",
    "    a = dt.now() - start\n",
    "    microsec3 += a.microseconds\n",
    "print(microsec3/100)"
   ]
  },
  {
   "cell_type": "markdown",
   "id": "235ebc23",
   "metadata": {},
   "source": [
    "Обчислення наближеного значення C_n в рази швидше ніж обчислення C_n за рекурсією (ІІ)"
   ]
  },
  {
   "cell_type": "markdown",
   "id": "98fb594f",
   "metadata": {},
   "source": [
    "Реалізуйте QuickSort i MergeSort"
   ]
  },
  {
   "cell_type": "code",
   "execution_count": 69,
   "id": "854e4530",
   "metadata": {},
   "outputs": [],
   "source": [
    "def partition(arr, start, stop):\n",
    "    i = (start-1)        \n",
    "    pivot = arr[stop]     \n",
    "    for j in range(start, stop):\n",
    "        if arr[j] <= pivot:\n",
    "            i += 1\n",
    "            arr[i], arr[j] = arr[j], arr[i]\n",
    "    arr[i+1], arr[stop] = arr[stop], arr[i+1]\n",
    "    return (i+1)\n",
    "\n",
    "def quickSort(arr, start, stop):\n",
    "    if len(arr) == 1:\n",
    "        return arr\n",
    "    if start < stop:\n",
    "        pi = partition(arr, start, stop)\n",
    "        quickSort(arr, start, pi-1)\n",
    "        quickSort(arr, pi+1, stop)"
   ]
  },
  {
   "cell_type": "code",
   "execution_count": 70,
   "id": "7e6070e2",
   "metadata": {},
   "outputs": [
    {
     "data": {
      "text/plain": [
       "[-2, 0, 1, 2, 3, 13]"
      ]
     },
     "execution_count": 70,
     "metadata": {},
     "output_type": "execute_result"
    }
   ],
   "source": [
    "a = [2,1,3,13,0,-2]\n",
    "quickSort(a,0,len(a)-1)\n",
    "a"
   ]
  },
  {
   "cell_type": "code",
   "execution_count": 71,
   "id": "52bd21a0",
   "metadata": {},
   "outputs": [],
   "source": [
    "def mergeSort(arr):\n",
    "    if len(arr) > 1:\n",
    "        mid = len(arr) // 2\n",
    "        left = arr[:mid]\n",
    "        right = arr[mid:]\n",
    "        \n",
    "        mergeSort(left)\n",
    "        mergeSort(right)\n",
    "\n",
    "        i = 0\n",
    "        j = 0\n",
    "        k = 0\n",
    "        \n",
    "        while i < len(left) and j < len(right):\n",
    "            if left[i] <= right[j]:\n",
    "                arr[k] = left[i]\n",
    "                i += 1\n",
    "            else:\n",
    "                arr[k] = right[j]\n",
    "                j += 1\n",
    "            k += 1\n",
    "\n",
    "        while i < len(left):\n",
    "            arr[k] = left[i]\n",
    "            i += 1\n",
    "            k += 1\n",
    "\n",
    "        while j < len(right):\n",
    "            arr[k]=right[j]\n",
    "            j += 1\n",
    "            k += 1\n"
   ]
  },
  {
   "cell_type": "code",
   "execution_count": 72,
   "id": "ffff86b3",
   "metadata": {},
   "outputs": [
    {
     "data": {
      "text/plain": [
       "[-2, 0, 1, 2, 3, 13]"
      ]
     },
     "execution_count": 72,
     "metadata": {},
     "output_type": "execute_result"
    }
   ],
   "source": [
    "a = [2,1,3,13,0,-2]\n",
    "mergeSort(a)\n",
    "a"
   ]
  },
  {
   "cell_type": "markdown",
   "id": "af05542a",
   "metadata": {},
   "source": [
    "a) Згенеруйте масиви розміру n = 10^4, 10^5, 10^6 як випадкові перестановки чисел від 1 до n. Порівняйте швидкість роботи QuickSort s MergeSort на цих масивах. Потрібно взяти середній час роботи, згенерувавши по 100 масивів кожної довжини."
   ]
  },
  {
   "cell_type": "code",
   "execution_count": 73,
   "id": "84064132",
   "metadata": {},
   "outputs": [],
   "source": [
    "from random import shuffle\n",
    "a = [i for i in range(1000)]\n",
    "b = [i for i in range(10000)]\n",
    "c = [i for i in range(100000)]\n",
    "arrs41 = []\n",
    "arrs42 = []\n",
    "arrs51 = []\n",
    "arrs52 = []\n",
    "arrs61 = []\n",
    "arrs62 = []\n",
    "for i in range(100):\n",
    "    shuffle(a)\n",
    "    arrs41.append(a)\n",
    "    arrs42.append(a)\n",
    "shuffle(b)\n",
    "shuffle(c)\n",
    "arrs51.append(b)\n",
    "arrs52.append(b)\n",
    "arrs61.append(c)\n",
    "arrs62.append(c)"
   ]
  },
  {
   "cell_type": "code",
   "execution_count": 100,
   "id": "cf5bed92",
   "metadata": {},
   "outputs": [
    {
     "data": {
      "text/plain": [
       "208193.05"
      ]
     },
     "execution_count": 100,
     "metadata": {},
     "output_type": "execute_result"
    }
   ],
   "source": [
    "microsec41 = 0\n",
    "for i in arrs41:\n",
    "    start = dt.now()\n",
    "    quickSort(i,0,len(i)-1)\n",
    "    a = dt.now() - start\n",
    "    microsec41 += a.microseconds\n",
    "timeq_4 = microsec41/100\n",
    "timeq_4"
   ]
  },
  {
   "cell_type": "code",
   "execution_count": 101,
   "id": "aae7be82",
   "metadata": {},
   "outputs": [
    {
     "data": {
      "text/plain": [
       "6375.74"
      ]
     },
     "execution_count": 101,
     "metadata": {},
     "output_type": "execute_result"
    }
   ],
   "source": [
    "microsec42 = 0\n",
    "for i in arrs42:\n",
    "    start = dt.now()\n",
    "    mergeSort(i)\n",
    "    a = dt.now() - start\n",
    "    microsec42 += a.microseconds\n",
    "timem_4 = microsec42/100\n",
    "timem_4"
   ]
  },
  {
   "cell_type": "markdown",
   "id": "1ecc7066",
   "metadata": {},
   "source": [
    "При сортуванні масивів розміру 10^5 та 10^6 буде використовуватись лише один масив, бо при більшій їх кількості комп'ютер не витримує навантажень і перестає проводити обчислення."
   ]
  },
  {
   "cell_type": "code",
   "execution_count": 76,
   "id": "a07a988c",
   "metadata": {},
   "outputs": [
    {
     "name": "stdout",
     "output_type": "stream",
     "text": [
      "0:00:00.058835\n"
     ]
    }
   ],
   "source": [
    "start = dt.now()\n",
    "quickSort(arrs52[0],0,10000-1)\n",
    "timeq = dt.now() - start\n",
    "print(timeq)"
   ]
  },
  {
   "cell_type": "code",
   "execution_count": 77,
   "id": "f27772e0",
   "metadata": {},
   "outputs": [
    {
     "name": "stdout",
     "output_type": "stream",
     "text": [
      "0:00:00.078503\n"
     ]
    }
   ],
   "source": [
    "start = dt.now()\n",
    "mergeSort(arrs51[0])\n",
    "timem = dt.now() - start\n",
    "print(timem)"
   ]
  },
  {
   "cell_type": "code",
   "execution_count": 78,
   "id": "86ff316e",
   "metadata": {},
   "outputs": [
    {
     "name": "stdout",
     "output_type": "stream",
     "text": [
      "0:00:00.674998\n"
     ]
    }
   ],
   "source": [
    "start = dt.now()\n",
    "quickSort(arrs61[0],0,100000-1)\n",
    "a6_q = dt.now() - start\n",
    "print(a6_q)"
   ]
  },
  {
   "cell_type": "code",
   "execution_count": 80,
   "id": "2ec7f30a",
   "metadata": {},
   "outputs": [
    {
     "name": "stdout",
     "output_type": "stream",
     "text": [
      "0:00:00.909039\n"
     ]
    }
   ],
   "source": [
    "start = dt.now()\n",
    "mergeSort(arrs62[0])\n",
    "a6_m = dt.now() - start\n",
    "print(a6_m)"
   ]
  },
  {
   "cell_type": "markdown",
   "id": "7e97b907",
   "metadata": {},
   "source": [
    "При QuickSort сортуванні масивів розміру 10^5 та 10^6 в середньому витрачається менше часу, ніж при MergeSort. Для масиву розміру 10^4 MergeSort працює швидше."
   ]
  },
  {
   "cell_type": "markdown",
   "id": "abd4d0bc",
   "metadata": {},
   "source": [
    "б) Нехай QuickSort та MergeSort мають час роботи c_q n log(n) c_m n log(n). Знайти ці константи, використавши реальний час роботи для n = 10^4 або  n = 10^5 та зробити прогноз для швидкості роботи цих алгоритмів при n = 10^6 та n = 10^7. Порівняти з реальною швидкістю."
   ]
  },
  {
   "cell_type": "code",
   "execution_count": 102,
   "id": "20520286",
   "metadata": {},
   "outputs": [],
   "source": [
    "from math import log2 as log"
   ]
  },
  {
   "cell_type": "code",
   "execution_count": 115,
   "id": "a40eb2bf",
   "metadata": {},
   "outputs": [],
   "source": [
    "c_m = timem_4/(10**4 * log(10*4))"
   ]
  },
  {
   "cell_type": "code",
   "execution_count": 116,
   "id": "e5338671",
   "metadata": {},
   "outputs": [],
   "source": [
    "c_q = timeq_4/(10**4 * log(10*4))"
   ]
  },
  {
   "cell_type": "code",
   "execution_count": 117,
   "id": "5fd3551d",
   "metadata": {},
   "outputs": [
    {
     "data": {
      "text/plain": [
       "0.11980131798708454"
      ]
     },
     "execution_count": 117,
     "metadata": {},
     "output_type": "execute_result"
    }
   ],
   "source": [
    "c_m"
   ]
  },
  {
   "cell_type": "code",
   "execution_count": 118,
   "id": "9ef6432c",
   "metadata": {},
   "outputs": [
    {
     "data": {
      "text/plain": [
       "3.9119853986754465"
      ]
     },
     "execution_count": 118,
     "metadata": {},
     "output_type": "execute_result"
    }
   ],
   "source": [
    "c_q"
   ]
  },
  {
   "cell_type": "markdown",
   "id": "db8a9dcc",
   "metadata": {},
   "source": [
    "Звідси швидкість роботи цих алгоритмів при n = 10^6 та n = 10^7 буде приблизно дорівнювати "
   ]
  },
  {
   "cell_type": "markdown",
   "id": "e6481b27",
   "metadata": {},
   "source": [
    "Для QuickSort:"
   ]
  },
  {
   "cell_type": "code",
   "execution_count": 119,
   "id": "0e0d4bad",
   "metadata": {},
   "outputs": [],
   "source": [
    "n = 10**6\n",
    "time_q_6 = c_q * n * log(n)"
   ]
  },
  {
   "cell_type": "code",
   "execution_count": 120,
   "id": "873ca012",
   "metadata": {},
   "outputs": [
    {
     "data": {
      "text/plain": [
       "77972005.21589462"
      ]
     },
     "execution_count": 120,
     "metadata": {},
     "output_type": "execute_result"
    }
   ],
   "source": [
    "time_q_6"
   ]
  },
  {
   "cell_type": "code",
   "execution_count": 121,
   "id": "5a8e722c",
   "metadata": {},
   "outputs": [],
   "source": [
    "n = 10**7\n",
    "time_q_7 = c_q * n * log(n)"
   ]
  },
  {
   "cell_type": "code",
   "execution_count": 122,
   "id": "d412477f",
   "metadata": {},
   "outputs": [
    {
     "data": {
      "text/plain": [
       "909673394.1854372"
      ]
     },
     "execution_count": 122,
     "metadata": {},
     "output_type": "execute_result"
    }
   ],
   "source": [
    "time_q_7"
   ]
  },
  {
   "cell_type": "markdown",
   "id": "dbda951e",
   "metadata": {},
   "source": [
    "Для MergeSort:"
   ]
  },
  {
   "cell_type": "code",
   "execution_count": 123,
   "id": "c6b007f4",
   "metadata": {},
   "outputs": [],
   "source": [
    "n = 10**6\n",
    "time_m_6 = c_m * n * log(n)"
   ]
  },
  {
   "cell_type": "code",
   "execution_count": 124,
   "id": "c9867d77",
   "metadata": {},
   "outputs": [
    {
     "data": {
      "text/plain": [
       "2387828.184154985"
      ]
     },
     "execution_count": 124,
     "metadata": {},
     "output_type": "execute_result"
    }
   ],
   "source": [
    "time_m_6"
   ]
  },
  {
   "cell_type": "code",
   "execution_count": 125,
   "id": "0a83bc1b",
   "metadata": {},
   "outputs": [],
   "source": [
    "n = 10**7\n",
    "time_m_7 = c_m * n * log(n)"
   ]
  },
  {
   "cell_type": "code",
   "execution_count": 126,
   "id": "100573e8",
   "metadata": {},
   "outputs": [
    {
     "data": {
      "text/plain": [
       "27857995.48180816"
      ]
     },
     "execution_count": 126,
     "metadata": {},
     "output_type": "execute_result"
    }
   ],
   "source": [
    "time_m_7"
   ]
  },
  {
   "cell_type": "markdown",
   "id": "eb7e8f6b",
   "metadata": {},
   "source": [
    "Порівняємо зі справжнім часом:"
   ]
  },
  {
   "cell_type": "markdown",
   "id": "e41d4b7f",
   "metadata": {},
   "source": [
    "У масиві величини 10^6 для QuickSort швидкість сортування дорівнювала a6_q = 674998(мікросекунд) , для MergeSort — a6_m = 909039(мікросекунд). Ми можемо бачити, що прогнозований час у мікросекундах (time_m_6 i time_q_6) значно більший. Це може бути пов'язане з тим, що розрахунки відбуваються дуже швидко, і знайдені  c_m та c_q можуть не показувати реальну картину."
   ]
  },
  {
   "cell_type": "markdown",
   "id": "c4429da8",
   "metadata": {},
   "source": [
    "Знайдемо час роботи QuickSort та MergeSort для масиву довжини 10^7:"
   ]
  },
  {
   "cell_type": "code",
   "execution_count": 137,
   "id": "3963f747",
   "metadata": {},
   "outputs": [],
   "source": [
    "lst = [i for i in range(10**7)]\n",
    "shuffle(lst)"
   ]
  },
  {
   "cell_type": "code",
   "execution_count": 138,
   "id": "c4b880f5",
   "metadata": {},
   "outputs": [
    {
     "name": "stdout",
     "output_type": "stream",
     "text": [
      "0:00:13.470751\n"
     ]
    }
   ],
   "source": [
    "start = dt.now()\n",
    "quickSort(lst,0,1000000-1)\n",
    "a7_q = dt.now() - start\n",
    "print(a7_q)"
   ]
  },
  {
   "cell_type": "code",
   "execution_count": 139,
   "id": "f1471449",
   "metadata": {},
   "outputs": [],
   "source": [
    "shuffle(lst)"
   ]
  },
  {
   "cell_type": "code",
   "execution_count": 140,
   "id": "8cbf5552",
   "metadata": {},
   "outputs": [
    {
     "name": "stdout",
     "output_type": "stream",
     "text": [
      "0:03:38.804680\n"
     ]
    }
   ],
   "source": [
    "start = dt.now()\n",
    "mergeSort(lst)\n",
    "a7_m = dt.now() - start\n",
    "print(a7_m)"
   ]
  },
  {
   "cell_type": "markdown",
   "id": "ef8f511a",
   "metadata": {},
   "source": [
    "Як бачимо, у цьому випадку прогнозований час (27857995.48180816 ≈ 27 секунд для MergeSort та 909673394.1854372 ≈ 15 хвилин для QuickSort) не відповідає реальним результатам."
   ]
  },
  {
   "cell_type": "markdown",
   "id": "bc0ddf1f",
   "metadata": {},
   "source": [
    "в) Модифікуємо QuickSort:"
   ]
  },
  {
   "cell_type": "code",
   "execution_count": 179,
   "id": "e6c2fc0c",
   "metadata": {},
   "outputs": [],
   "source": [
    "global counter\n"
   ]
  },
  {
   "cell_type": "code",
   "execution_count": 524,
   "id": "0b1a15e3",
   "metadata": {},
   "outputs": [],
   "source": [
    "def partition_modified(arr, start, stop):\n",
    "    global counter\n",
    "    i = (start-1)        \n",
    "    pivot = arr[stop]     \n",
    "    for j in range(start, stop):\n",
    "        counter += 1\n",
    "        if arr[j] <= pivot:\n",
    "            i += 1\n",
    "            arr[i], arr[j] = arr[j], arr[i]\n",
    "    arr[i+1], arr[stop] = arr[stop], arr[i+1]\n",
    "    return (i+1)"
   ]
  },
  {
   "cell_type": "code",
   "execution_count": 525,
   "id": "a059e8e5",
   "metadata": {},
   "outputs": [],
   "source": [
    "def quickSort_modified(arr, start, stop):\n",
    "    global counter\n",
    "    if len(arr) == 1:\n",
    "        return arr\n",
    "    if start < stop:\n",
    "        pi = partition_modified(arr, start, stop)\n",
    "        quickSort(arr, start, pi-1)\n",
    "        quickSort(arr, pi+1, stop)"
   ]
  },
  {
   "cell_type": "code",
   "execution_count": 401,
   "id": "fc5cf35b",
   "metadata": {},
   "outputs": [],
   "source": [
    "def func(n):\n",
    "    global counter\n",
    "    counter = 0\n",
    "    a = [i for i in range(n)]\n",
    "    for i in range(100):\n",
    "        shuffle(a)\n",
    "        quickSort_modified(a,0,n-1)\n",
    "    return counter"
   ]
  },
  {
   "cell_type": "code",
   "execution_count": 402,
   "id": "d5ee0a9a",
   "metadata": {},
   "outputs": [
    {
     "data": {
      "text/plain": [
       "10000"
      ]
     },
     "execution_count": 402,
     "metadata": {},
     "output_type": "execute_result"
    }
   ],
   "source": [
    "counter = 0\n",
    "func(100)"
   ]
  },
  {
   "cell_type": "code",
   "execution_count": 403,
   "id": "7d45c6c0",
   "metadata": {},
   "outputs": [],
   "source": [
    "cn = rec2(n)"
   ]
  },
  {
   "cell_type": "code",
   "execution_count": 404,
   "id": "8ee1ecbc",
   "metadata": {},
   "outputs": [
    {
     "data": {
      "text/plain": [
       "12970.94172110068"
      ]
     },
     "execution_count": 404,
     "metadata": {},
     "output_type": "execute_result"
    }
   ],
   "source": [
    "cn"
   ]
  },
  {
   "cell_type": "code",
   "execution_count": 405,
   "id": "b666cf3f",
   "metadata": {},
   "outputs": [],
   "source": [
    "import matplotlib.pyplot as plt\n"
   ]
  },
  {
   "cell_type": "code",
   "execution_count": 406,
   "id": "7b7a448f",
   "metadata": {},
   "outputs": [],
   "source": [
    "x = []\n",
    "y = []\n",
    "m = 200"
   ]
  },
  {
   "cell_type": "code",
   "execution_count": 407,
   "id": "41ec10d1",
   "metadata": {},
   "outputs": [],
   "source": [
    "for i in range(m):\n",
    "    x.append(rec2(i))\n",
    "    y.append(func(i))"
   ]
  },
  {
   "cell_type": "code",
   "execution_count": null,
   "id": "cc9c87f2",
   "metadata": {},
   "outputs": [],
   "source": []
  },
  {
   "cell_type": "code",
   "execution_count": 522,
   "id": "50e9cab7",
   "metadata": {},
   "outputs": [
    {
     "data": {
      "text/plain": [
       "[<matplotlib.lines.Line2D at 0x24616f2de80>]"
      ]
     },
     "execution_count": 522,
     "metadata": {},
     "output_type": "execute_result"
    },
    {
     "data": {
      "image/png": "[encoded data removed]",
      "text/plain": [
       "<Figure size 432x288 with 1 Axes>"
      ]
     },
     "metadata": {
      "needs_background": "light"
     },
     "output_type": "display_data"
    }
   ],
   "source": [
    "plt.plot(x,[i for i in range(m)], color = \"green\")\n",
    "plt.plot(y,[i for i in range(m)], color = \"red\")"
   ]
  },
  {
   "cell_type": "markdown",
   "id": "4d0c7798",
   "metadata": {},
   "source": [
    "г) Побудуємо гістограми:"
   ]
  },
  {
   "cell_type": "code",
   "execution_count": 464,
   "id": "03f9b94b",
   "metadata": {},
   "outputs": [],
   "source": [
    "n1 = 9\n",
    "n2 = 10\n",
    "f1 = factorial(n1)\n",
    "f2 = factorial(n2)"
   ]
  },
  {
   "cell_type": "code",
   "execution_count": 465,
   "id": "cec41b9d",
   "metadata": {},
   "outputs": [],
   "source": [
    "from math import factorial\n",
    "from itertools import permutations"
   ]
  },
  {
   "cell_type": "code",
   "execution_count": 499,
   "id": "08671164",
   "metadata": {},
   "outputs": [],
   "source": [
    "lst1 = [i for i in range(n1)]\n",
    "lst2 = [i for i in range(n2)]"
   ]
  },
  {
   "cell_type": "markdown",
   "id": "8b974f40",
   "metadata": {},
   "source": [
    "Для QuickSort:"
   ]
  },
  {
   "cell_type": "code",
   "execution_count": 526,
   "id": "4b2e12ef",
   "metadata": {},
   "outputs": [],
   "source": [
    "pq1 = permutations(lst1)\n",
    "pq2 = permutations(lst2)"
   ]
  },
  {
   "cell_type": "code",
   "execution_count": 527,
   "id": "496a617a",
   "metadata": {},
   "outputs": [],
   "source": [
    "freq_q1 = {}"
   ]
  },
  {
   "cell_type": "code",
   "execution_count": 528,
   "id": "d09e7f91",
   "metadata": {},
   "outputs": [],
   "source": [
    "for p in pq1:\n",
    "    counter = 0\n",
    "    quickSort_modified(list(p),0,n1-1)\n",
    "    try:\n",
    "        freq_q1[counter]+= 1\n",
    "    except:\n",
    "        freq_q1[counter] = 1\n",
    "    "
   ]
  },
  {
   "cell_type": "code",
   "execution_count": 529,
   "id": "88a70428",
   "metadata": {},
   "outputs": [
    {
     "data": {
      "text/plain": [
       "{8: 362880}"
      ]
     },
     "execution_count": 529,
     "metadata": {},
     "output_type": "execute_result"
    }
   ],
   "source": [
    "freq_q1"
   ]
  },
  {
   "cell_type": "code",
   "execution_count": 530,
   "id": "9f0035b6",
   "metadata": {},
   "outputs": [
    {
     "data": {
      "image/png": "[encoded data removed]",
      "text/plain": [
       "<Figure size 432x288 with 1 Axes>"
      ]
     },
     "metadata": {
      "needs_background": "light"
     },
     "output_type": "display_data"
    }
   ],
   "source": [
    "plt.bar(list(freq_q1.keys()), freq_q1.values())\n",
    "plt.show()"
   ]
  },
  {
   "cell_type": "code",
   "execution_count": 531,
   "id": "e3853397",
   "metadata": {},
   "outputs": [],
   "source": [
    "freq_q2 = {}"
   ]
  },
  {
   "cell_type": "code",
   "execution_count": 532,
   "id": "bfef4bf2",
   "metadata": {},
   "outputs": [],
   "source": [
    "for p in pq2:\n",
    "    counter = 0\n",
    "    quickSort_modified(list(p),0,n2-1)\n",
    "    try:\n",
    "        freq_q2[counter]+= 1\n",
    "    except:\n",
    "        freq_q2[counter] = 1\n",
    "       "
   ]
  },
  {
   "cell_type": "code",
   "execution_count": 533,
   "id": "d421794a",
   "metadata": {},
   "outputs": [
    {
     "data": {
      "text/plain": [
       "{9: 3628800}"
      ]
     },
     "execution_count": 533,
     "metadata": {},
     "output_type": "execute_result"
    }
   ],
   "source": [
    "freq_q2"
   ]
  },
  {
   "cell_type": "code",
   "execution_count": 534,
   "id": "5cb52bf9",
   "metadata": {},
   "outputs": [
    {
     "data": {
      "image/png": "[encoded data removed]",
      "text/plain": [
       "<Figure size 432x288 with 1 Axes>"
      ]
     },
     "metadata": {
      "needs_background": "light"
     },
     "output_type": "display_data"
    }
   ],
   "source": [
    "plt.bar(list(freq_q2.keys()), freq_q2.values())\n",
    "plt.show()"
   ]
  },
  {
   "cell_type": "markdown",
   "id": "ea6df92e",
   "metadata": {},
   "source": [
    "Для MergeSort:"
   ]
  },
  {
   "cell_type": "markdown",
   "id": "3358b74a",
   "metadata": {},
   "source": [
    "Модифікуємо алгоритм щоб можна було рахувати порівняння:"
   ]
  },
  {
   "cell_type": "code",
   "execution_count": 509,
   "id": "04b55c47",
   "metadata": {},
   "outputs": [],
   "source": [
    "def mergeSort_modified(arr):\n",
    "    if len(arr) > 1:\n",
    "        global counter\n",
    "        mid = len(arr) // 2\n",
    "        left = arr[:mid]\n",
    "        right = arr[mid:]\n",
    "        \n",
    "        mergeSort(left)\n",
    "        mergeSort(right)\n",
    "        \n",
    "        i = 0\n",
    "        j = 0\n",
    "        k = 0\n",
    "        \n",
    "        while i < len(left) and j < len(right):\n",
    "            counter += 1\n",
    "            if left[i] <= right[j]:\n",
    "                arr[k] = left[i]\n",
    "                i += 1\n",
    "            else:\n",
    "                arr[k] = right[j]\n",
    "                j += 1\n",
    "            k += 1\n",
    "\n",
    "        while i < len(left):\n",
    "            arr[k] = left[i]\n",
    "            i += 1\n",
    "            k += 1\n",
    "\n",
    "        while j < len(right):\n",
    "            arr[k] = right[j]\n",
    "            j += 1\n",
    "            k += 1"
   ]
  },
  {
   "cell_type": "code",
   "execution_count": 510,
   "id": "7526bce6",
   "metadata": {},
   "outputs": [],
   "source": [
    "pm1 = permutations(lst1)\n",
    "pm2 = permutations(lst2)"
   ]
  },
  {
   "cell_type": "code",
   "execution_count": 511,
   "id": "f1acff06",
   "metadata": {},
   "outputs": [],
   "source": [
    "freq_m1 = {}"
   ]
  },
  {
   "cell_type": "code",
   "execution_count": 512,
   "id": "50c203b7",
   "metadata": {},
   "outputs": [],
   "source": [
    "for p in pm1:\n",
    "    counter = 0\n",
    "    mergeSort_modified(list(p))\n",
    "    try:\n",
    "        freq_m1[counter] += 1\n",
    "    except:\n",
    "        freq_m1[counter] = 1"
   ]
  },
  {
   "cell_type": "code",
   "execution_count": 513,
   "id": "e7588c74",
   "metadata": {},
   "outputs": [
    {
     "data": {
      "text/plain": [
       "{4: 2880, 5: 14400, 6: 43200, 7: 100800, 8: 201600}"
      ]
     },
     "execution_count": 513,
     "metadata": {},
     "output_type": "execute_result"
    }
   ],
   "source": [
    "freq_m1"
   ]
  },
  {
   "cell_type": "code",
   "execution_count": 515,
   "id": "b2a9720d",
   "metadata": {},
   "outputs": [
    {
     "data": {
      "image/png": "[encoded data removed]",
      "text/plain": [
       "<Figure size 432x288 with 1 Axes>"
      ]
     },
     "metadata": {
      "needs_background": "light"
     },
     "output_type": "display_data"
    }
   ],
   "source": [
    "plt.bar(list(freq_m1.keys()), freq_m1.values())\n",
    "plt.show()"
   ]
  },
  {
   "cell_type": "code",
   "execution_count": 516,
   "id": "ef93e98f",
   "metadata": {},
   "outputs": [],
   "source": [
    "freq_m2 = {}"
   ]
  },
  {
   "cell_type": "code",
   "execution_count": 517,
   "id": "4f2fad9b",
   "metadata": {},
   "outputs": [],
   "source": [
    "for p in pm2:\n",
    "    counter = 0\n",
    "    mergeSort_modified(list(p))\n",
    "    try:\n",
    "        freq_m2[counter] += 1\n",
    "    except:\n",
    "        freq_m2[counter] = 1"
   ]
  },
  {
   "cell_type": "code",
   "execution_count": 518,
   "id": "44952f17",
   "metadata": {},
   "outputs": [
    {
     "data": {
      "text/plain": [
       "{5: 28800, 6: 144000, 7: 432000, 8: 1008000, 9: 2016000}"
      ]
     },
     "execution_count": 518,
     "metadata": {},
     "output_type": "execute_result"
    }
   ],
   "source": [
    "freq_m2"
   ]
  },
  {
   "cell_type": "code",
   "execution_count": 519,
   "id": "7d5b13dd",
   "metadata": {},
   "outputs": [
    {
     "data": {
      "image/png": "[encoded data removed]",
      "text/plain": [
       "<Figure size 432x288 with 1 Axes>"
      ]
     },
     "metadata": {
      "needs_background": "light"
     },
     "output_type": "display_data"
    }
   ],
   "source": [
    "plt.bar(list(freq_m2.keys()), freq_m2.values())\n",
    "plt.show()"
   ]
  }
 ],
 "metadata": {
  "kernelspec": {
   "display_name": "Python 3 (ipykernel)",
   "language": "python",
   "name": "python3"
  },
  "language_info": {
   "codemirror_mode": {
    "name": "ipython",
    "version": 3
   },
   "file_extension": ".py",
   "mimetype": "text/x-python",
   "name": "python",
   "nbconvert_exporter": "python",
   "pygments_lexer": "ipython3",
   "version": "3.9.7"
  }
 },
 "nbformat": 4,
 "nbformat_minor": 5
}
