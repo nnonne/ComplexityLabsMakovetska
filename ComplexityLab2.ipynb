{
 "cells": [
  {
   "cell_type": "markdown",
   "id": "78e5de6d",
   "metadata": {},
   "source": [
    "Завдання 1:"
   ]
  },
  {
   "cell_type": "markdown",
   "id": "4a93c992",
   "metadata": {},
   "source": [
    "Запрограмуємо рекурсії та виконаємо завдання, пов'язані з ними:"
   ]
  },
  {
   "cell_type": "markdown",
   "id": "31cf33e9",
   "metadata": {},
   "source": [
    "а)"
   ]
  },
  {
   "cell_type": "markdown",
   "id": "885c3103",
   "metadata": {},
   "source": [
    "1)"
   ]
  },
  {
   "cell_type": "code",
   "execution_count": 52,
   "id": "03b23d0e",
   "metadata": {},
   "outputs": [],
   "source": [
    "def rec1(n):\n",
    "    a0 = 1\n",
    "    an = 1\n",
    "    for i in range(n):\n",
    "        an = 1/(1+a0)\n",
    "        a0 = an\n",
    "    return an"
   ]
  },
  {
   "cell_type": "code",
   "execution_count": 53,
   "id": "dcb96686",
   "metadata": {},
   "outputs": [
    {
     "name": "stdout",
     "output_type": "stream",
     "text": [
      "1\n",
      "0.5\n",
      "0.6666666666666666\n",
      "0.6000000000000001\n",
      "0.625\n",
      "0.6153846153846154\n",
      "0.6190476190476191\n",
      "0.6176470588235294\n",
      "0.6181818181818182\n",
      "0.6179775280898876\n"
     ]
    }
   ],
   "source": [
    "for i in range(10):\n",
    "    print(rec1(i))"
   ]
  },
  {
   "cell_type": "markdown",
   "id": "033a6af2",
   "metadata": {},
   "source": [
    "2)"
   ]
  },
  {
   "cell_type": "code",
   "execution_count": 54,
   "id": "53f21345",
   "metadata": {},
   "outputs": [
    {
     "data": {
      "text/plain": [
       "0.6180339887498948"
      ]
     },
     "execution_count": 54,
     "metadata": {},
     "output_type": "execute_result"
    }
   ],
   "source": [
    "rec1(100)"
   ]
  },
  {
   "cell_type": "code",
   "execution_count": 55,
   "id": "76530562",
   "metadata": {},
   "outputs": [
    {
     "data": {
      "text/plain": [
       "0.6180339887498948"
      ]
     },
     "execution_count": 55,
     "metadata": {},
     "output_type": "execute_result"
    }
   ],
   "source": [
    "rec1(1000)"
   ]
  },
  {
   "cell_type": "markdown",
   "id": "6e483b85",
   "metadata": {},
   "source": [
    "Припустимо, що ця послідовність збігається до деякого числа alpha = 0.6180339887498948. Доведемо це математично:"
   ]
  },
  {
   "cell_type": "code",
   "execution_count": 56,
   "id": "621aec8a",
   "metadata": {},
   "outputs": [
    {
     "name": "stdout",
     "output_type": "stream",
     "text": [
      "0.6180339985218034\n",
      "9.77190861561894e-09\n",
      "для епсілон = 1e-08 існує n = 18, при якому an-alpha < eps.\n"
     ]
    }
   ],
   "source": [
    "eps1 = 0.00000001#наше епсілон\n",
    "alpha1 = 0.6180339887498948\n",
    "n = 0\n",
    "while abs(rec1(n) - alpha1) > eps1:\n",
    "    n += 1\n",
    "print(rec1(n))\n",
    "print(abs(rec1(n) - alpha1))\n",
    "print(f'для епсілон = {eps1} існує n = {n}, при якому an-alpha < eps.')"
   ]
  },
  {
   "cell_type": "markdown",
   "id": "9a116211",
   "metadata": {},
   "source": [
    "3), \n",
    "4), \n",
    "5)"
   ]
  },
  {
   "cell_type": "markdown",
   "id": "a70afe8f",
   "metadata": {},
   "source": [
    "Обчислимо кілька перших різниць аn - alpha:"
   ]
  },
  {
   "cell_type": "code",
   "execution_count": 57,
   "id": "3446ca07",
   "metadata": {},
   "outputs": [
    {
     "name": "stdout",
     "output_type": "stream",
     "text": [
      "0.3819660112501052\n",
      "1\n",
      "________\n",
      "-0.11803398874989479\n",
      "0.5\n",
      "________\n",
      "0.04863267791677184\n",
      "0.6666666666666666\n",
      "________\n",
      "-0.018033988749894703\n",
      "0.6000000000000001\n",
      "________\n",
      "0.0069660112501052085\n",
      "0.625\n",
      "________\n",
      "-0.0026493733652793727\n",
      "0.6153846153846154\n",
      "________\n",
      "0.0010136302977242773\n",
      "0.6190476190476191\n",
      "________\n",
      "-0.0003869299263653536\n",
      "0.6176470588235294\n",
      "________\n",
      "0.00014782943192337417\n",
      "0.6181818181818182\n",
      "________\n",
      "-5.646066000719596e-05\n",
      "0.6179775280898876\n",
      "________\n",
      "2.1566805660788724e-05\n",
      "0.6180555555555556\n",
      "________\n",
      "-8.237676933475768e-06\n",
      "0.6180257510729613\n",
      "________\n",
      "3.146528619768496e-06\n",
      "0.6180371352785146\n",
      "________\n",
      "-1.2018646489142526e-06\n",
      "0.6180327868852459\n",
      "________\n",
      "4.590717871399974e-07\n",
      "0.6180344478216819\n",
      "________\n"
     ]
    }
   ],
   "source": [
    "for i in range(15):\n",
    "    print(rec1(i)-alpha1)\n",
    "    print(rec1(i))\n",
    "    print(\"________\")"
   ]
  },
  {
   "cell_type": "markdown",
   "id": "5bf4c893",
   "metadata": {},
   "source": [
    "Припустимо, що для того, щоб числа an i alpha мали k одинакових цифр після коми, потрібно зробити приблизно 3k кроків. Перевіримо це:"
   ]
  },
  {
   "cell_type": "code",
   "execution_count": 58,
   "id": "66802c0c",
   "metadata": {},
   "outputs": [
    {
     "name": "stdout",
     "output_type": "stream",
     "text": [
      "0.6180339882053251\n",
      "0.6180339887498948\n",
      "________\n",
      "0.618033988749989\n",
      "0.6180339887498948\n",
      "________\n",
      "0.6180339887498948\n",
      "0.6180339887498948\n"
     ]
    }
   ],
   "source": [
    "k = 7\n",
    "print(rec1(3*k))\n",
    "print(alpha1)\n",
    "print(\"________\")\n",
    "k = 10\n",
    "print(rec1(3*k))\n",
    "print(alpha1)\n",
    "print(\"________\")\n",
    "k = 15\n",
    "print(rec1(3*k))\n",
    "print(alpha1)"
   ]
  },
  {
   "cell_type": "markdown",
   "id": "30642a7f",
   "metadata": {},
   "source": [
    "6)"
   ]
  },
  {
   "cell_type": "code",
   "execution_count": 59,
   "id": "0c78cb73",
   "metadata": {},
   "outputs": [
    {
     "name": "stdout",
     "output_type": "stream",
     "text": [
      "0.6180339887498948\n",
      "0.6180339887498948\n"
     ]
    }
   ],
   "source": [
    "print(rec1(37))\n",
    "print(alpha1)"
   ]
  },
  {
   "cell_type": "markdown",
   "id": "64be627f",
   "metadata": {},
   "source": [
    "Оскільки після 37 кроку an збігається з alpha(звісно, при розрахунках комп'ютером похибка буде присутньою), можна вважати, що найбільша точність буде при n >= 37"
   ]
  },
  {
   "cell_type": "markdown",
   "id": "7615f31c",
   "metadata": {},
   "source": [
    "б)"
   ]
  },
  {
   "cell_type": "code",
   "execution_count": 60,
   "id": "b891ef4e",
   "metadata": {},
   "outputs": [],
   "source": [
    "def rec2(n):\n",
    "    a0 = 1\n",
    "    an = 1\n",
    "    for i in range(n):\n",
    "        an = (a0+2/a0)/2\n",
    "        a0 = an\n",
    "    return an"
   ]
  },
  {
   "cell_type": "code",
   "execution_count": 61,
   "id": "a6f12b92",
   "metadata": {},
   "outputs": [
    {
     "name": "stdout",
     "output_type": "stream",
     "text": [
      "1\n",
      "1.5\n",
      "1.4166666666666665\n",
      "1.4142156862745097\n",
      "1.4142135623746899\n",
      "1.414213562373095\n",
      "1.414213562373095\n",
      "1.414213562373095\n",
      "1.414213562373095\n",
      "1.414213562373095\n"
     ]
    }
   ],
   "source": [
    "for i in range(10):\n",
    "    print(rec2(i))"
   ]
  },
  {
   "cell_type": "markdown",
   "id": "70066257",
   "metadata": {},
   "source": [
    "2)"
   ]
  },
  {
   "cell_type": "markdown",
   "id": "7b91ac05",
   "metadata": {},
   "source": [
    "Припустимо, що ця послідовність збігається до деякого числа alpha = 1.414213562373095. Доведемо це математично:"
   ]
  },
  {
   "cell_type": "code",
   "execution_count": 62,
   "id": "70859171",
   "metadata": {},
   "outputs": [
    {
     "name": "stdout",
     "output_type": "stream",
     "text": [
      "1.414213562373095\n",
      "0.0\n",
      "для епсілон = 1e-12 існує n = 5, при якому an-alpha < eps.\n"
     ]
    }
   ],
   "source": [
    "eps2 = 0.000000000001\n",
    "alpha2 = 1.414213562373095\n",
    "n = 0\n",
    "while abs(rec2(n) - alpha2) > eps2:\n",
    "    n += 1\n",
    "print(rec2(n))\n",
    "print(abs(rec2(n) - alpha2))\n",
    "print(f'для епсілон = {eps2} існує n = {n}, при якому an-alpha < eps.')"
   ]
  },
  {
   "cell_type": "markdown",
   "id": "74d8b863",
   "metadata": {},
   "source": [
    "3), \n",
    "4), \n",
    "5)"
   ]
  },
  {
   "cell_type": "markdown",
   "id": "1a6177fa",
   "metadata": {},
   "source": [
    "Обчислимо кілька перших різниць аn - alpha:"
   ]
  },
  {
   "cell_type": "code",
   "execution_count": 63,
   "id": "bf41c2ee",
   "metadata": {},
   "outputs": [
    {
     "name": "stdout",
     "output_type": "stream",
     "text": [
      "-0.4142135623730949\n",
      "1\n",
      "____\n",
      "0.08578643762690508\n",
      "1.5\n",
      "____\n",
      "0.002453104293571595\n",
      "1.4166666666666665\n",
      "____\n",
      "2.1239014147411694e-06\n",
      "1.4142156862745097\n",
      "____\n",
      "1.5949463971764999e-12\n",
      "1.4142135623746899\n",
      "____\n",
      "0.0\n",
      "1.414213562373095\n",
      "____\n",
      "0.0\n",
      "1.414213562373095\n",
      "____\n",
      "0.0\n",
      "1.414213562373095\n",
      "____\n",
      "0.0\n",
      "1.414213562373095\n",
      "____\n",
      "0.0\n",
      "1.414213562373095\n",
      "____\n"
     ]
    }
   ],
   "source": [
    "for i in range(10):\n",
    "    print(rec2(i)-alpha2)\n",
    "    print(rec2(i))\n",
    "    print(\"____\")"
   ]
  },
  {
   "cell_type": "markdown",
   "id": "fad078e2",
   "metadata": {},
   "source": [
    "Припустимо, що для того, щоб числа an i alpha мали >15 одинакових цифр після коми, потрібно зробити 5 кроків. Для k < 15: k = 2 -- k кроків, k є [3,5] 3 кроки, k є [6,14] 4 кроки. Перевіримо це:"
   ]
  },
  {
   "cell_type": "code",
   "execution_count": 64,
   "id": "8aec73fa",
   "metadata": {},
   "outputs": [
    {
     "name": "stdout",
     "output_type": "stream",
     "text": [
      "1.4166666666666665\n",
      "1.414213562373095\n",
      "________\n",
      "1.4142156862745097\n",
      "1.414213562373095\n",
      "________\n",
      "1.4142135623746899\n",
      "1.414213562373095\n",
      "________\n",
      "1.414213562373095\n",
      "1.414213562373095\n"
     ]
    }
   ],
   "source": [
    "k = 2\n",
    "print(rec2(k))\n",
    "print(alpha2)\n",
    "print(\"________\")\n",
    "k = [3,4,5]\n",
    "print(rec2(3))\n",
    "print(alpha2)\n",
    "print(\"________\")\n",
    "k = [6,'...',15]\n",
    "print(rec2(4))\n",
    "print(alpha2)\n",
    "print(\"________\")\n",
    "k = 15\n",
    "print(rec2(5))\n",
    "print(alpha2)"
   ]
  },
  {
   "cell_type": "markdown",
   "id": "ba25443b",
   "metadata": {},
   "source": [
    "6)"
   ]
  },
  {
   "cell_type": "markdown",
   "id": "637dfde5",
   "metadata": {},
   "source": [
    "Оскільки після 5 кроків an збігається з alpha, можна вважати, що найбільша точність буде при n >= 5"
   ]
  },
  {
   "cell_type": "markdown",
   "id": "11f216c6",
   "metadata": {},
   "source": [
    "в)"
   ]
  },
  {
   "cell_type": "code",
   "execution_count": 65,
   "id": "e223db80",
   "metadata": {},
   "outputs": [],
   "source": [
    "def rec3(n):\n",
    "    a0 = 1/2\n",
    "    an = 1/2\n",
    "    for i in range(n):\n",
    "        an = a0*(1-a0)\n",
    "        a0 = an\n",
    "    return an"
   ]
  },
  {
   "cell_type": "code",
   "execution_count": 66,
   "id": "ae6736fc",
   "metadata": {},
   "outputs": [
    {
     "name": "stdout",
     "output_type": "stream",
     "text": [
      "0.5\n",
      "0.25\n",
      "0.1875\n",
      "0.15234375\n",
      "0.1291351318359375\n",
      "0.11245924956165254\n",
      "0.09981216674968249\n",
      "0.08984969811841606\n",
      "0.08177672986644556\n",
      "0.07508929631879595\n"
     ]
    }
   ],
   "source": [
    "for i in range(10):\n",
    "    print(rec3(i))"
   ]
  },
  {
   "cell_type": "markdown",
   "id": "bb5a8aa0",
   "metadata": {},
   "source": [
    "2)"
   ]
  },
  {
   "cell_type": "code",
   "execution_count": 67,
   "id": "ec4d24a5",
   "metadata": {},
   "outputs": [
    {
     "data": {
      "text/plain": [
       "9.999997981137575e-09"
      ]
     },
     "execution_count": 67,
     "metadata": {},
     "output_type": "execute_result"
    }
   ],
   "source": [
    "rec3(100000000)"
   ]
  },
  {
   "cell_type": "markdown",
   "id": "43b9cc59",
   "metadata": {},
   "source": [
    "Припустимо, що ця послідовність збігається до деякого числа alpha = 0.\n",
    "Доведемо це математично:"
   ]
  },
  {
   "cell_type": "code",
   "execution_count": 68,
   "id": "3b79a731",
   "metadata": {},
   "outputs": [
    {
     "name": "stdout",
     "output_type": "stream",
     "text": [
      "9.999021713720693e-05\n",
      "9.999021713720693e-05\n",
      "для епсілон = 0.0001 існує n = 9990, при якому an-alpha < eps.\n"
     ]
    }
   ],
   "source": [
    "eps3 = 0.0001\n",
    "alpha3 = 0\n",
    "n = 0\n",
    "while abs(rec3(n) - alpha3) > eps3:\n",
    "    n += 1\n",
    "print(rec3(n))\n",
    "print(abs(rec3(n) - alpha3))\n",
    "print(f'для епсілон = {eps3} існує n = {n}, при якому an-alpha < eps.')"
   ]
  },
  {
   "cell_type": "markdown",
   "id": "9a5fb720",
   "metadata": {},
   "source": [
    "3), \n",
    "4), \n",
    "5),\n",
    "6)"
   ]
  },
  {
   "cell_type": "markdown",
   "id": "bad5088d",
   "metadata": {},
   "source": [
    "Обчислимо кілька перших різниць аn - alpha:"
   ]
  },
  {
   "cell_type": "code",
   "execution_count": 69,
   "id": "d5f6deac",
   "metadata": {},
   "outputs": [
    {
     "name": "stdout",
     "output_type": "stream",
     "text": [
      "0.5\n",
      "0.25\n",
      "0.1875\n",
      "0.15234375\n",
      "0.1291351318359375\n",
      "0.11245924956165254\n",
      "0.09981216674968249\n",
      "0.08984969811841606\n",
      "0.08177672986644556\n",
      "0.07508929631879595\n"
     ]
    }
   ],
   "source": [
    "for i in range(10):\n",
    "    print(rec3(i)-alpha3)"
   ]
  },
  {
   "cell_type": "markdown",
   "id": "9b0ea576",
   "metadata": {},
   "source": [
    "Припустимо, що для того, щоб числа an i alpha мали k одинакових цифр після коми, потрібно зробити приблизно 10^k кроків. Перевіримо це:"
   ]
  },
  {
   "cell_type": "code",
   "execution_count": 70,
   "id": "d419f6c0",
   "metadata": {},
   "outputs": [
    {
     "name": "stdout",
     "output_type": "stream",
     "text": [
      "0.06945089389714401\n",
      "0\n",
      "________\n",
      "9.998672071657373e-06\n",
      "0\n",
      "________\n",
      "9.999982113941443e-08\n",
      "0\n"
     ]
    }
   ],
   "source": [
    "k = 1\n",
    "print(rec3(10**k))\n",
    "print(alpha3)\n",
    "print(\"________\")\n",
    "k = 5\n",
    "print(rec3(10**k))\n",
    "print(alpha3)\n",
    "print(\"________\")\n",
    "k = 7\n",
    "print(rec3(10**k))\n",
    "print(alpha3)"
   ]
  },
  {
   "cell_type": "markdown",
   "id": "eefe29a8",
   "metadata": {},
   "source": [
    "г)"
   ]
  },
  {
   "cell_type": "code",
   "execution_count": 71,
   "id": "d26527cd",
   "metadata": {},
   "outputs": [],
   "source": [
    "from math import cos, sin\n",
    "def rec4(n):\n",
    "    a0 = 0.5 #a0 є (0,1), від вибору числа з проміжку нічого не залежить\n",
    "    an = 0.5\n",
    "    for i in range(n):\n",
    "        an = cos(a0)\n",
    "        a0 = an\n",
    "    return an"
   ]
  },
  {
   "cell_type": "code",
   "execution_count": 72,
   "id": "b319495f",
   "metadata": {},
   "outputs": [
    {
     "name": "stdout",
     "output_type": "stream",
     "text": [
      "0.5\n",
      "0.8775825618903728\n",
      "0.6390124941652592\n",
      "0.8026851006823349\n",
      "0.6947780267880062\n",
      "0.7681958312820161\n",
      "0.719165445942419\n",
      "0.752355759421527\n",
      "0.7300810631378233\n",
      "0.7451203413514401\n"
     ]
    }
   ],
   "source": [
    "for i in range(10):\n",
    "    print(rec4(i))"
   ]
  },
  {
   "cell_type": "markdown",
   "id": "80cacb04",
   "metadata": {},
   "source": [
    "2)"
   ]
  },
  {
   "cell_type": "code",
   "execution_count": 73,
   "id": "b56e7df7",
   "metadata": {},
   "outputs": [
    {
     "data": {
      "text/plain": [
       "0.7390851332151607"
      ]
     },
     "execution_count": 73,
     "metadata": {},
     "output_type": "execute_result"
    }
   ],
   "source": [
    "rec4(1000)"
   ]
  },
  {
   "cell_type": "markdown",
   "id": "18c6fe23",
   "metadata": {},
   "source": [
    "Припустимо, що ця послідовність збігається до деякого числа alpha = 0.7390851332151607. Доведемо це математично:"
   ]
  },
  {
   "cell_type": "code",
   "execution_count": 74,
   "id": "4fc75df3",
   "metadata": {},
   "outputs": [
    {
     "name": "stdout",
     "output_type": "stream",
     "text": [
      "0.7390852280600745\n",
      "9.48449138116203e-08\n",
      "для епсілон = 1e-07 існує n = 37, при якому an-alpha < eps.\n"
     ]
    }
   ],
   "source": [
    "eps4 = 0.0000001\n",
    "alpha4 = 0.7390851332151607\n",
    "n = 0\n",
    "while abs(rec4(n) - alpha4) > eps4:\n",
    "    n += 1\n",
    "print(rec4(n))\n",
    "print(abs(rec4(n) - alpha4))\n",
    "print(f'для епсілон = {eps4} існує n = {n}, при якому an-alpha < eps.')"
   ]
  },
  {
   "cell_type": "markdown",
   "id": "07e95813",
   "metadata": {},
   "source": [
    "3),\n",
    "4),\n",
    "5)"
   ]
  },
  {
   "cell_type": "markdown",
   "id": "8b42cc7a",
   "metadata": {},
   "source": [
    "Обчислимо кілька перших різниць аn - alpha:"
   ]
  },
  {
   "cell_type": "code",
   "execution_count": 75,
   "id": "6ce17ba3",
   "metadata": {},
   "outputs": [
    {
     "name": "stdout",
     "output_type": "stream",
     "text": [
      "-0.23908513321516067\n",
      "0.1384974286752121\n",
      "-0.10007263904990149\n",
      "0.06359996746717422\n",
      "-0.04430710642715452\n",
      "0.0291106980668554\n",
      "-0.019919687272741626\n",
      "0.01327062620636632\n",
      "-0.00900407007733739\n",
      "0.006035208136279446\n"
     ]
    }
   ],
   "source": [
    "for i in range(10):\n",
    "    print(rec4(i)-alpha4)"
   ]
  },
  {
   "cell_type": "markdown",
   "id": "75ebebed",
   "metadata": {},
   "source": [
    "Припустимо, що для того, щоб числа an i alpha мали k одинакових цифр після коми, потрібно зробити приблизно 6k кроків. Перевіримо це:"
   ]
  },
  {
   "cell_type": "code",
   "execution_count": 76,
   "id": "0bebdc66",
   "metadata": {},
   "outputs": [
    {
     "name": "stdout",
     "output_type": "stream",
     "text": [
      "0.719165445942419\n",
      "0.7390851332151607\n",
      "________\n",
      "0.7390836261034798\n",
      "0.7390851332151607\n",
      "________\n",
      "0.7390851332044346\n",
      "0.7390851332151607\n"
     ]
    }
   ],
   "source": [
    "k = 1\n",
    "print(rec4(6*k))\n",
    "print(alpha4)\n",
    "print(\"________\")\n",
    "k = 5\n",
    "print(rec4(6*k))\n",
    "print(alpha4)\n",
    "print(\"________\")\n",
    "k = 10\n",
    "print(rec4(6*k))\n",
    "print(alpha4)"
   ]
  },
  {
   "cell_type": "markdown",
   "id": "f4f4ef4d",
   "metadata": {},
   "source": [
    "6)"
   ]
  },
  {
   "cell_type": "code",
   "execution_count": 77,
   "id": "18af1512",
   "metadata": {},
   "outputs": [
    {
     "name": "stdout",
     "output_type": "stream",
     "text": [
      "0.7390851332151607\n",
      "0.7390851332151607\n"
     ]
    }
   ],
   "source": [
    "print(rec4(91))\n",
    "print(alpha4)\n"
   ]
  },
  {
   "cell_type": "markdown",
   "id": "4e0b7a16",
   "metadata": {},
   "source": [
    "Оскільки після 91 кроків an збігається з alpha, можна вважати, що найбільша точність буде при n >= 91"
   ]
  },
  {
   "cell_type": "markdown",
   "id": "abe82802",
   "metadata": {},
   "source": [
    "д)"
   ]
  },
  {
   "cell_type": "code",
   "execution_count": 78,
   "id": "ad975db6",
   "metadata": {},
   "outputs": [],
   "source": [
    "def rec5(n):\n",
    "    a0 = 0.5  #в умові не вказано а0, тому беремо довільне з проміжку (0,1)\n",
    "    an = 0.5\n",
    "    for i in range(n):\n",
    "        an = (a0*sin(a0)+cos(a0))/(1+sin(a0))\n",
    "        a0 = an\n",
    "    return an"
   ]
  },
  {
   "cell_type": "code",
   "execution_count": 79,
   "id": "624729d0",
   "metadata": {},
   "outputs": [
    {
     "name": "stdout",
     "output_type": "stream",
     "text": [
      "0.5\n",
      "0.7552224171056364\n",
      "0.7391416661498792\n",
      "0.7390851339208068\n",
      "0.7390851332151607\n",
      "0.7390851332151607\n",
      "0.7390851332151607\n",
      "0.7390851332151607\n",
      "0.7390851332151607\n",
      "0.7390851332151607\n"
     ]
    }
   ],
   "source": [
    "for i in range(10):\n",
    "    print(rec5(i))"
   ]
  },
  {
   "cell_type": "markdown",
   "id": "dc418126",
   "metadata": {},
   "source": [
    "2)"
   ]
  },
  {
   "cell_type": "markdown",
   "id": "2c7f6845",
   "metadata": {},
   "source": [
    "Припустимо, що ця послідовність збігається до деякого числа alpha = 0.7390851332151607. Доведемо це математично:"
   ]
  },
  {
   "cell_type": "code",
   "execution_count": 80,
   "id": "a03e225e",
   "metadata": {},
   "outputs": [
    {
     "name": "stdout",
     "output_type": "stream",
     "text": [
      "0.7390851332151607\n",
      "0.0\n",
      "для епсілон = 1e-10 існує n = 4, при якому an-alpha < eps.\n"
     ]
    }
   ],
   "source": [
    "eps5 = 0.0000000001\n",
    "alpha5 = 0.7390851332151607\n",
    "n = 0\n",
    "while abs(rec5(n) - alpha5) > eps5:\n",
    "    n += 1\n",
    "print(rec5(n))\n",
    "print(abs(rec5(n) - alpha5))\n",
    "print(f'для епсілон = {eps5} існує n = {n}, при якому an-alpha < eps.')"
   ]
  },
  {
   "cell_type": "markdown",
   "id": "400bce0a",
   "metadata": {},
   "source": [
    "3), \n",
    "4), \n",
    "5),\n",
    "6)"
   ]
  },
  {
   "cell_type": "markdown",
   "id": "323b768b",
   "metadata": {},
   "source": [
    "Обчислимо кілька перших різниць аn - alpha:"
   ]
  },
  {
   "cell_type": "code",
   "execution_count": 81,
   "id": "fc7be05a",
   "metadata": {},
   "outputs": [
    {
     "name": "stdout",
     "output_type": "stream",
     "text": [
      "-0.23908513321516067\n",
      "0.01613728389047575\n",
      "5.653293471852283e-05\n",
      "7.056460971099909e-10\n",
      "0.0\n",
      "0.0\n",
      "0.0\n",
      "0.0\n",
      "0.0\n",
      "0.0\n"
     ]
    }
   ],
   "source": [
    "for i in range(10):\n",
    "    print(rec5(i)-alpha5)"
   ]
  },
  {
   "cell_type": "markdown",
   "id": "5735101c",
   "metadata": {},
   "source": [
    "Припустимо, що для того, щоб числа an i alpha мали k= [1,2] одинакових цифр після коми, потрібно зробити k кроків. Після трьох кроків вже будуть збігатись 9 цифр після коми. Після 4 кроків an дорівнюватиме alpha. Перевіримо це:"
   ]
  },
  {
   "cell_type": "code",
   "execution_count": 82,
   "id": "1f75a598",
   "metadata": {},
   "outputs": [
    {
     "name": "stdout",
     "output_type": "stream",
     "text": [
      "0.7552224171056364\n",
      "0.7390851332151607\n",
      "________\n",
      "0.7391416661498792\n",
      "0.7390851332151607\n",
      "________\n",
      "0.7390851339208068\n",
      "0.7390851332151607\n",
      "________\n",
      "0.7390851332151607\n",
      "0.7390851332151607\n"
     ]
    }
   ],
   "source": [
    "k = 1\n",
    "print(rec5(k))\n",
    "print(alpha5)\n",
    "print(\"________\")\n",
    "k = 2\n",
    "print(rec5(k))\n",
    "print(alpha5)\n",
    "print(\"________\")\n",
    "k = [3, '...',9]\n",
    "print(rec5(3))\n",
    "print(alpha5)\n",
    "print(\"________\")\n",
    "k = 10\n",
    "print(rec5(4))\n",
    "print(alpha5)"
   ]
  },
  {
   "cell_type": "markdown",
   "id": "dd0b2d11",
   "metadata": {},
   "source": [
    "е)"
   ]
  },
  {
   "cell_type": "code",
   "execution_count": 83,
   "id": "915266e6",
   "metadata": {},
   "outputs": [],
   "source": [
    "def rec6(n):\n",
    "    a0 = 1\n",
    "    an = 1\n",
    "    for i in range(n):\n",
    "        an = sin(a0)\n",
    "        a0 = an\n",
    "    return an"
   ]
  },
  {
   "cell_type": "code",
   "execution_count": 84,
   "id": "852d4c16",
   "metadata": {},
   "outputs": [
    {
     "name": "stdout",
     "output_type": "stream",
     "text": [
      "1\n",
      "0.8414709848078965\n",
      "0.7456241416655579\n",
      "0.6784304773607402\n",
      "0.6275718320491591\n",
      "0.5871809965734309\n",
      "0.5540163907556296\n",
      "0.5261070755028416\n",
      "0.5021706762685553\n",
      "0.48132935526234627\n"
     ]
    }
   ],
   "source": [
    "for i in range(10):\n",
    "    print(rec6(i))"
   ]
  },
  {
   "cell_type": "markdown",
   "id": "39b5deb4",
   "metadata": {},
   "source": [
    "2)"
   ]
  },
  {
   "cell_type": "code",
   "execution_count": 85,
   "id": "124e8eb9",
   "metadata": {},
   "outputs": [
    {
     "data": {
      "text/plain": [
       "0.005476969854058641"
      ]
     },
     "execution_count": 85,
     "metadata": {},
     "output_type": "execute_result"
    }
   ],
   "source": [
    "rec6(100000)"
   ]
  },
  {
   "cell_type": "markdown",
   "id": "4f6e0aaf",
   "metadata": {},
   "source": [
    "Припустимо, що ця послідовність збігається до деякого числа alpha = 0. Доведемо це математично:"
   ]
  },
  {
   "cell_type": "code",
   "execution_count": 86,
   "id": "5a743e7f",
   "metadata": {},
   "outputs": [
    {
     "name": "stdout",
     "output_type": "stream",
     "text": [
      "0.009999897362957543\n",
      "0.009999897362957543\n",
      "для епсілон = 0.01 існує n = 29992, при якому an-alpha < eps.\n"
     ]
    }
   ],
   "source": [
    "eps6 = 0.01\n",
    "alpha6 = 0\n",
    "n = 0\n",
    "while abs(rec6(n) - alpha6) > eps6:\n",
    "    n += 1\n",
    "print(rec6(n))\n",
    "print(abs(rec6(n) - alpha6))\n",
    "print(f'для епсілон = {eps6} існує n = {n}, при якому an-alpha < eps.')"
   ]
  },
  {
   "cell_type": "markdown",
   "id": "cb707576",
   "metadata": {},
   "source": [
    "3), \n",
    "4), \n",
    "5)"
   ]
  },
  {
   "cell_type": "markdown",
   "id": "df194c1e",
   "metadata": {},
   "source": [
    "Обчислимо кілька перших різниць аn - alpha:"
   ]
  },
  {
   "cell_type": "code",
   "execution_count": 87,
   "id": "56de1ab8",
   "metadata": {},
   "outputs": [
    {
     "name": "stdout",
     "output_type": "stream",
     "text": [
      "1\n",
      "0.8414709848078965\n",
      "0.7456241416655579\n",
      "0.6784304773607402\n",
      "0.6275718320491591\n",
      "0.5871809965734309\n",
      "0.5540163907556296\n",
      "0.5261070755028416\n",
      "0.5021706762685553\n",
      "0.48132935526234627\n",
      "0.4629578985378118\n",
      "0.4465965933869819\n",
      "0.4318984332658224\n",
      "0.4185956609982105\n",
      "0.4064777649840686\n"
     ]
    }
   ],
   "source": [
    "for i in range(15):\n",
    "    print(rec6(i)-alpha6)"
   ]
  },
  {
   "cell_type": "markdown",
   "id": "da4e22ce",
   "metadata": {},
   "source": [
    "Оскільки для того, щоб збігались дві цифри після коми нам потрібно було близько 30 000 кроків, будемо вважати, що послідовність  an прямує до alpha = 0  з дуже малою швидкістю."
   ]
  },
  {
   "cell_type": "markdown",
   "id": "ccc59534",
   "metadata": {},
   "source": [
    "Завдання 2:"
   ]
  },
  {
   "cell_type": "code",
   "execution_count": 88,
   "id": "d1e8bc5c",
   "metadata": {},
   "outputs": [],
   "source": [
    "def task2(arr,n):\n",
    "    absent = []\n",
    "    current = 0\n",
    "    for el in arr:\n",
    "        if el != current +1:\n",
    "            absent.append(current + 1)\n",
    "        current = el\n",
    "    if arr[-1] != n:\n",
    "        absent += [i for i in range(arr[-1]+1,n+1)]\n",
    "    return absent"
   ]
  },
  {
   "cell_type": "code",
   "execution_count": 89,
   "id": "7897249d",
   "metadata": {},
   "outputs": [
    {
     "data": {
      "text/plain": [
       "[3]"
      ]
     },
     "execution_count": 89,
     "metadata": {},
     "output_type": "execute_result"
    }
   ],
   "source": [
    "task2([1,2,4,5,6,7],7)"
   ]
  },
  {
   "cell_type": "code",
   "execution_count": 90,
   "id": "7d5baa70",
   "metadata": {},
   "outputs": [
    {
     "data": {
      "text/plain": [
       "[1, 5]"
      ]
     },
     "execution_count": 90,
     "metadata": {},
     "output_type": "execute_result"
    }
   ],
   "source": [
    "task2([2,3,4,6,7,8],8)"
   ]
  },
  {
   "cell_type": "code",
   "execution_count": 91,
   "id": "dade59c9",
   "metadata": {},
   "outputs": [
    {
     "data": {
      "text/plain": [
       "[2, 8]"
      ]
     },
     "execution_count": 91,
     "metadata": {},
     "output_type": "execute_result"
    }
   ],
   "source": [
    "task2([1,3,4,5,6,7],8)"
   ]
  },
  {
   "cell_type": "markdown",
   "id": "560649ce",
   "metadata": {},
   "source": [
    "Проаналізуємо складність алгоритму: "
   ]
  },
  {
   "cell_type": "markdown",
   "id": "5a2a4790",
   "metadata": {},
   "source": [
    "В циклі for ми проходимось по всім елементам масиву arr та перевіряємо, чи кожен наступний елемент більший за попередній на 1. Будемо вважати, що масив arr є попередньо відсортований, якщо ж ні, то ми просто домножимо складність алгоритму пошуку на складність алгоритму сортування. Для цього проходження нам потрібно O(n) кроків, адже довжина масиву arr дорівнює або n-1, або n-2 за умовою завдання. Всі пропущені елементи ми додаємо до списку absent, після чого перевіряємо чи вилучені елементи не були вилучені з кінця. Якщо так, ми додаємо відповідно один або два елементи бо списку absent, звідси складність алгоритму пошуку відсутніх елементів у відсортованому списку дорівнює O(n)"
   ]
  },
  {
   "cell_type": "markdown",
   "id": "3d674563",
   "metadata": {},
   "source": [
    "Завдання 3:"
   ]
  },
  {
   "cell_type": "markdown",
   "id": "20077be4",
   "metadata": {},
   "source": [
    "Оскільки в умові завдання не було сказано нічого про складність алгоритму, побудуємо простий лінійний пошук який працює за O(n) часу:"
   ]
  },
  {
   "cell_type": "code",
   "execution_count": 92,
   "id": "4c7e3694",
   "metadata": {},
   "outputs": [],
   "source": [
    "def task3(arr,n, el):\n",
    "    for i in range(n):\n",
    "        if arr[i] == el:\n",
    "            return i\n",
    "    return f\"there is no {el}\""
   ]
  },
  {
   "cell_type": "code",
   "execution_count": 93,
   "id": "7c2782e4",
   "metadata": {},
   "outputs": [
    {
     "data": {
      "text/plain": [
       "3"
      ]
     },
     "execution_count": 93,
     "metadata": {},
     "output_type": "execute_result"
    }
   ],
   "source": [
    "task3([4,5,6,1,2,3],6,1)"
   ]
  },
  {
   "cell_type": "code",
   "execution_count": 94,
   "id": "1946ac91",
   "metadata": {},
   "outputs": [
    {
     "data": {
      "text/plain": [
       "'there is no 9'"
      ]
     },
     "execution_count": 94,
     "metadata": {},
     "output_type": "execute_result"
    }
   ],
   "source": [
    "task3([4,5,6,1,2,3],6,9)"
   ]
  },
  {
   "cell_type": "markdown",
   "id": "be48f72f",
   "metadata": {},
   "source": [
    "Завдання 4:"
   ]
  },
  {
   "cell_type": "code",
   "execution_count": 95,
   "id": "b943ad37",
   "metadata": {},
   "outputs": [],
   "source": [
    "def task4(arr):\n",
    "    ans = []\n",
    "    for el in arr:\n",
    "        if el == 0:\n",
    "            ans.insert(0,0)\n",
    "        else:\n",
    "            ans.append(1)\n",
    "    return ans"
   ]
  },
  {
   "cell_type": "code",
   "execution_count": 96,
   "id": "00ad5795",
   "metadata": {},
   "outputs": [],
   "source": [
    "arr = [0,1,1,1,0,1,0]"
   ]
  },
  {
   "cell_type": "code",
   "execution_count": 97,
   "id": "5aeea587",
   "metadata": {},
   "outputs": [
    {
     "data": {
      "text/plain": [
       "[0, 0, 0, 1, 1, 1, 1]"
      ]
     },
     "execution_count": 97,
     "metadata": {},
     "output_type": "execute_result"
    }
   ],
   "source": [
    "task4(arr)"
   ]
  }
 ],
 "metadata": {
  "kernelspec": {
   "display_name": "Python 3 (ipykernel)",
   "language": "python",
   "name": "python3"
  },
  "language_info": {
   "codemirror_mode": {
    "name": "ipython",
    "version": 3
   },
   "file_extension": ".py",
   "mimetype": "text/x-python",
   "name": "python",
   "nbconvert_exporter": "python",
   "pygments_lexer": "ipython3",
   "version": "3.9.7"
  }
 },
 "nbformat": 4,
 "nbformat_minor": 5
}
