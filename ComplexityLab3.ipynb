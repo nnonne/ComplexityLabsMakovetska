{
 "cells": [
  {
   "cell_type": "markdown",
   "id": "caabca5b",
   "metadata": {},
   "source": [
    "Завдання 1: Двійкові дерева"
   ]
  },
  {
   "cell_type": "markdown",
   "id": "292ced51",
   "metadata": {},
   "source": [
    "a)"
   ]
  },
  {
   "cell_type": "code",
   "execution_count": 154,
   "id": "ddb2e508",
   "metadata": {},
   "outputs": [],
   "source": [
    "def task1_a(tree):\n",
    "    ans = ''\n",
    "    for el in str(tree):\n",
    "        if el == ']':\n",
    "            ans += ')'\n",
    "        elif el == '[':\n",
    "            ans += '('\n",
    "    return (ans)\n",
    "    "
   ]
  },
  {
   "cell_type": "code",
   "execution_count": 155,
   "id": "2acff6c0",
   "metadata": {},
   "outputs": [
    {
     "data": {
      "text/plain": [
       "'(()())'"
      ]
     },
     "execution_count": 155,
     "metadata": {},
     "output_type": "execute_result"
    }
   ],
   "source": [
    "tree = [2,[1],[3]]\n",
    "task1_a(tree)"
   ]
  },
  {
   "cell_type": "markdown",
   "id": "0a80073c",
   "metadata": {},
   "source": [
    "е)"
   ]
  },
  {
   "cell_type": "code",
   "execution_count": 156,
   "id": "586b6b8c",
   "metadata": {},
   "outputs": [],
   "source": [
    "def print_tree(tree,pref=\"\"):\n",
    "        leaf = \"|—————> \"\n",
    "        top = \"|___________\"\n",
    "        son1 = \"|           \"\n",
    "        son2 = \"            \"\n",
    "        width = len(top)\n",
    "        \n",
    "        a = \"\"\n",
    "        if len(tree):\n",
    "            if (pref == \"\"):\n",
    "                a += pref + str(tree[0]) + \"\\n\"\n",
    "            else:\n",
    "                a += pref[:-width] + top + str(tree[0]) + \"\\n\"\n",
    "            try:\n",
    "                a += print_tree(tree[2], pref + son1)\n",
    "            except:\n",
    "                pass\n",
    "            try:\n",
    "                a += print_tree(tree[1], pref + son2)\n",
    "            except:\n",
    "                pass\n",
    "            return a\n",
    "        else:\n",
    "            return (pref[:-width] + leaf + str(tree[0]) + \"\\n\")"
   ]
  },
  {
   "cell_type": "code",
   "execution_count": 157,
   "id": "3edbe71a",
   "metadata": {},
   "outputs": [
    {
     "name": "stdout",
     "output_type": "stream",
     "text": [
      "4\n",
      "|___________7\n",
      "|           |___________9\n",
      "|           |           |___________8\n",
      "|           |___________5\n",
      "|                       |___________6\n",
      "|___________1\n",
      "            |___________2\n",
      "            |           |___________3\n",
      "            |___________0\n",
      "\n"
     ]
    }
   ],
   "source": [
    "print(print_tree([4, [1, [0], [2, [], [3]]], [7, [5, [], [6]], [9, [8], []]]]))"
   ]
  },
  {
   "cell_type": "code",
   "execution_count": null,
   "id": "a576bf61",
   "metadata": {},
   "outputs": [],
   "source": []
  },
  {
   "cell_type": "markdown",
   "id": "80fca0a5",
   "metadata": {},
   "source": [
    "Завдання 2: \n",
    "Двійкові дерева пошуку"
   ]
  },
  {
   "cell_type": "markdown",
   "id": "07ce590a",
   "metadata": {},
   "source": [
    "а)"
   ]
  },
  {
   "cell_type": "code",
   "execution_count": 158,
   "id": "b757f680",
   "metadata": {},
   "outputs": [],
   "source": [
    "from random import shuffle"
   ]
  },
  {
   "cell_type": "code",
   "execution_count": 159,
   "id": "8b40fd80",
   "metadata": {},
   "outputs": [],
   "source": [
    "def put_el(el, tree):\n",
    "    if len(tree) == 0:\n",
    "        tree.append(el)\n",
    "    elif len(tree) == 1:\n",
    "        if el <= tree[0]:\n",
    "            tree.append([el])\n",
    "            tree.append([])\n",
    "        else:\n",
    "            tree.append([])\n",
    "            tree.append([el])\n",
    "    else:\n",
    "        if el <= tree[0]:\n",
    "            put_el(el,tree[1])\n",
    "        else:\n",
    "            put_el(el,tree[2])"
   ]
  },
  {
   "cell_type": "code",
   "execution_count": 160,
   "id": "dcb767ba",
   "metadata": {},
   "outputs": [
    {
     "data": {
      "text/plain": [
       "[2, [1], [3, [], [4]]]"
      ]
     },
     "execution_count": 160,
     "metadata": {},
     "output_type": "execute_result"
    }
   ],
   "source": [
    "tree = [2,[1],[3]]\n",
    "put_el(4,tree)\n",
    "tree"
   ]
  },
  {
   "cell_type": "code",
   "execution_count": 161,
   "id": "09d5f129",
   "metadata": {},
   "outputs": [],
   "source": [
    "def task2_a(seq):\n",
    "    '''seq = [3,2,1,6,5,4,7,8,9 ........]'''\n",
    "    tree = [seq[0]]\n",
    "    for el in seq[1:]:\n",
    "        put_el(el, tree)\n",
    "    return tree   "
   ]
  },
  {
   "cell_type": "code",
   "execution_count": 162,
   "id": "c7eac9ba",
   "metadata": {},
   "outputs": [
    {
     "data": {
      "text/plain": [
       "[2, [1], [3]]"
      ]
     },
     "execution_count": 162,
     "metadata": {},
     "output_type": "execute_result"
    }
   ],
   "source": [
    "seq = [2,1,3]\n",
    "task2_a(seq)"
   ]
  },
  {
   "cell_type": "code",
   "execution_count": 163,
   "id": "fc0901b1",
   "metadata": {},
   "outputs": [
    {
     "name": "stdout",
     "output_type": "stream",
     "text": [
      "[5, 4, 6, 1, 9, 0, 7, 2, 8, 3]\n"
     ]
    }
   ],
   "source": [
    "a = [i for i in range(10)]\n",
    "shuffle(a)\n",
    "print(a)"
   ]
  },
  {
   "cell_type": "code",
   "execution_count": 164,
   "id": "7a673101",
   "metadata": {},
   "outputs": [
    {
     "data": {
      "text/plain": [
       "[5, [4, [1, [0], [2, [], [3]]], []], [6, [], [9, [7, [], [8]], []]]]"
      ]
     },
     "execution_count": 164,
     "metadata": {},
     "output_type": "execute_result"
    }
   ],
   "source": [
    "b = task2_a(a)\n",
    "b"
   ]
  },
  {
   "cell_type": "code",
   "execution_count": 165,
   "id": "0a2b190d",
   "metadata": {},
   "outputs": [
    {
     "name": "stdout",
     "output_type": "stream",
     "text": [
      "5\n",
      "|___________6\n",
      "|           |___________9\n",
      "|           |           |___________7\n",
      "|           |                       |___________8\n",
      "|___________4\n",
      "            |___________1\n",
      "                        |___________2\n",
      "                        |           |___________3\n",
      "                        |___________0\n",
      "\n"
     ]
    }
   ],
   "source": [
    "print(print_tree(b))"
   ]
  },
  {
   "cell_type": "markdown",
   "id": "a4626529",
   "metadata": {},
   "source": [
    "б)"
   ]
  },
  {
   "cell_type": "code",
   "execution_count": 166,
   "id": "d81a86a5",
   "metadata": {},
   "outputs": [],
   "source": [
    "from random import randint"
   ]
  },
  {
   "cell_type": "code",
   "execution_count": 167,
   "id": "e5971637",
   "metadata": {},
   "outputs": [
    {
     "data": {
      "text/plain": [
       "-10"
      ]
     },
     "execution_count": 167,
     "metadata": {},
     "output_type": "execute_result"
    }
   ],
   "source": [
    "randint(-10,10)"
   ]
  },
  {
   "cell_type": "code",
   "execution_count": 168,
   "id": "919c1d13",
   "metadata": {},
   "outputs": [],
   "source": [
    "def task2_b(n):\n",
    "    s = [randint(-10*n,10*n) for i in range(n)]\n",
    "    return task2_a(s)"
   ]
  },
  {
   "cell_type": "code",
   "execution_count": 169,
   "id": "da8a9076",
   "metadata": {},
   "outputs": [
    {
     "name": "stdout",
     "output_type": "stream",
     "text": [
      "-81\n",
      "|___________-18\n",
      "|           |___________68\n",
      "|           |           |___________84\n",
      "|           |           |           |___________88\n",
      "|           |           |           |___________73\n",
      "|           |           |___________33\n",
      "|           |___________-18\n",
      "|                       |___________-29\n",
      "|___________-100\n",
      "\n"
     ]
    }
   ],
   "source": [
    "t = task2_b(10)\n",
    "print(print_tree(t))"
   ]
  },
  {
   "cell_type": "code",
   "execution_count": null,
   "id": "f396133c",
   "metadata": {},
   "outputs": [],
   "source": []
  },
  {
   "cell_type": "code",
   "execution_count": null,
   "id": "ebe5cee6",
   "metadata": {},
   "outputs": [],
   "source": [
    "   "
   ]
  },
  {
   "cell_type": "code",
   "execution_count": null,
   "id": "d5ae61c3",
   "metadata": {},
   "outputs": [],
   "source": []
  }
 ],
 "metadata": {
  "kernelspec": {
   "display_name": "Python 3 (ipykernel)",
   "language": "python",
   "name": "python3"
  },
  "language_info": {
   "codemirror_mode": {
    "name": "ipython",
    "version": 3
   },
   "file_extension": ".py",
   "mimetype": "text/x-python",
   "name": "python",
   "nbconvert_exporter": "python",
   "pygments_lexer": "ipython3",
   "version": "3.9.7"
  }
 },
 "nbformat": 4,
 "nbformat_minor": 5
}
